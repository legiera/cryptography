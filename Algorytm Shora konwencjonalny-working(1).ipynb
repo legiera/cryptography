{
 "cells": [
  {
   "cell_type": "markdown",
   "metadata": {},
   "source": [
    "# Algorytm Shora \n",
    "Faktoryzacja liczby całkowitej złożonej polega na znalezieniu liczb pierwszych, których iloczyn tworzy daną liczbę złożoną.\n",
    "\n",
    "Problem faktoryzacji można zamienić na problem znajdowania okresu w grupie wyznaczonej przez funkcję:\n",
    "$\\mathcal{F}(a) = x^a \\bmod N$ gdzie  $x$ jest względnie pierwsze z  $N$  i $a \\ge 0$."
   ]
  },
  {
   "cell_type": "code",
   "execution_count": 28,
   "metadata": {},
   "outputs": [
    {
     "name": "stdout",
     "output_type": "stream",
     "text": [
      "Okres funkcji F(a)=x^a mod N dla x= 2 i N= 15 wynosi:  4\n",
      "Okres funkcji F(a)=x^a mod N dla x= 4 i N= 15 wynosi:  2\n",
      "Okres funkcji F(a)=x^a mod N dla x= 7 i N= 15 wynosi:  4\n",
      "Okres funkcji F(a)=x^a mod N dla x= 8 i N= 15 wynosi:  4\n",
      "Okres funkcji F(a)=x^a mod N dla x= 11 i N= 15 wynosi:  2\n",
      "Okres funkcji F(a)=x^a mod N dla x= 13 i N= 15 wynosi:  4\n",
      "Okres funkcji F(a)=x^a mod N dla x= 14 i N= 15 wynosi:  2\n",
      "Okres funkcji F(a)=x^a mod N dla x= 16 i N= 15 wynosi:  2\n",
      "Okres funkcji F(a)=x^a mod N dla x= 17 i N= 15 wynosi:  4\n",
      "Okres funkcji F(a)=x^a mod N dla x= 19 i N= 15 wynosi:  2\n"
     ]
    }
   ],
   "source": [
    "import math \n",
    "\n",
    "def trivial_find_period(x, N):\n",
    "    n = 1\n",
    "    t = x\n",
    "    while t != 1:\n",
    "        t *= x\n",
    "        t %= N\n",
    "        n += 1\n",
    "    return n\n",
    "\n",
    "N=15\n",
    "for i in range(2, 20, 1):\n",
    "    if (math.gcd(i, N)==1):\n",
    "        print('Okres funkcji F(a)=x^a mod N dla x=', i, 'i N=', N, 'wynosi: ', trivial_find_period(i, N))"
   ]
  },
  {
   "cell_type": "code",
   "execution_count": null,
   "metadata": {},
   "outputs": [],
   "source": []
  },
  {
   "cell_type": "code",
   "execution_count": 29,
   "metadata": {},
   "outputs": [
    {
     "name": "stdout",
     "output_type": "stream",
     "text": [
      "Liczby pierwsze: 241 181  i ich iloczyn 43621\n"
     ]
    }
   ],
   "source": [
    "###### Test pierwszości Rabina-Millera\n",
    "import random\n",
    "\n",
    "def rabinMiller(num):\n",
    "    d = num - 1    ##obliczamy wartości d i sa\n",
    "    s = 0\n",
    "    while d % 2 == 0:   ##usuwamy z num-1 dzielniki 2 zliczając je w s\n",
    "        d = d // 2\n",
    "        s += 1\n",
    "\n",
    "    for trials in range(20):   ## wykonujemy n testów R-B \n",
    "        a = random.randrange(2, num - 1)  ##losujemy baze a\n",
    "        b = pow(a, d, num)   ### pierwszy wyraz ciągu\n",
    "        if (b != 1) and (b != num-1): ## jeśli b nie spełnia warunków losujemy innego świadka\n",
    "            i = 1\n",
    "            while (i < s) and (b != (num - 1)):\n",
    "                b = (b ** 2) % num   ## obliczamy kolejne wyrazy ciągu R-M \n",
    "                if(b==1):          ## tylko ostatni wyraz może mieć wartość 1\n",
    "                    return False \n",
    "                i+=1\n",
    "                \n",
    "            if(b!=num-1):  ##przedpstatni wyraz musi mieć wartość num -1   \n",
    "                return False                \n",
    "    ### jeśli wykonaliśmy n testów i żaden nie zakończył się False \n",
    "    return True\n",
    "\n",
    "def isPrime(num):\n",
    "    if (num <= 2):\n",
    "        return False # oczywista oczywistość \n",
    "    return rabinMiller(num)\n",
    "\n",
    "#napisz funkcję generującą liczbę pierwszą \n",
    "def generatePrime(keysize):\n",
    "    while True:\n",
    "        num = random.randrange(2**(keysize-1), 2**(keysize))\n",
    "        if isPrime(num):\n",
    "            return num\n",
    "\n",
    "tp =  generatePrime(8)   \n",
    "tq =  generatePrime(8)\n",
    "\n",
    "print('Liczby pierwsze:', tp, tq, ' i ich iloczyn', tp*tq)"
   ]
  },
  {
   "cell_type": "markdown",
   "metadata": {},
   "source": [
    "## Algorytm Shora dla konwencjonalnych komputerów \n",
    "Załóżmy, że $N$ ma tylko dwa czynniki $p$ i $q$:\n",
    "\n",
    "1. Wybierz losowo liczbę między $1$ i $N$ oblicz największy wspólny dzielnik  $\\text{gcd}(x,N)$\n",
    "2. Jeśli $x$ i $N$ mają wspólne czynniki pierwsze to  $\\text{gcd}(x,N)$ będzie równie $p$ or $q$. STOP. \n",
    "3. W przeciwnym wypadku  $\\text{gcd}(x,N) = 1$ czyli $x$ i $N$ są względnie pierwsze. \n",
    "4. Znajdź okres $r$ funkcji $x^a mod\\ N$ taki, który jest liczbą parzystą.\n",
    "5. Czynniki pierwsze pierwsze $p$ i $q$ znajdziemy obliczając $\\text{gcd}(x^{r/2} \\pm 1, N)$ o ile $x^{r/2} \\neq \\pm 1$. \n"
   ]
  },
  {
   "cell_type": "code",
   "execution_count": 54,
   "metadata": {},
   "outputs": [
    {
     "name": "stdout",
     "output_type": "stream",
     "text": [
      "Licza złożona N = 43621, wzglęnie pierwwsza z x = 26000, okres r = 240, czynniki pierwsze = 241 and 181\n"
     ]
    }
   ],
   "source": [
    "def shors_algorithm_classical(N):\n",
    "    #add code \n",
    "\n",
    "x,r,p,q = shors_algorithm_classical(tp*tq)\n",
    "print(\"Licza złożona N = \",tp*tq,\", wzglęnie pierwwsza z x = \",x,\", okres r = \",r,\", czynniki pierwsze = \",p,\" and \",q,sep=\"\")"
   ]
  },
  {
   "cell_type": "markdown",
   "metadata": {},
   "source": [
    "### Szybkie potęgowanie modularne \n",
    "\n",
    "The modular exponentiation, step 3 above, that is the evaluation of $x^a \\bmod N$ for $2^t$ values of $a$ in parallel, is the most demanding part of the algorithm. This can be performed using the following identity for the binary representation of any integer: $x = x_{t-1}2^{t-1} + ... x_12^1+x_02^0$, where $x_t$ are the binary digits of $x$. From this, it follows that:\n",
    "\n",
    "Operację potęgowania możemy zapisać jako: \n",
    "\n",
    "\\begin{aligned}\n",
    "x^a \\bmod N & = x^{2^{(t-1)}a_{t-1}} ... x^{2a_1}x^{a_0} \\bmod N \\\\\n",
    "& = x^{2^{(t-1)}a_{t-1}} ... [x^{2a_1}[x^{2a_0} \\bmod N] \\bmod N] ... \\bmod N \\\\\n",
    "\\end{aligned}\n",
    "\n",
    "Jeśli współczynniki $a_0...a_{t-1}$ mają wartości 0 lub 1 to mogą być zapisane jako liczba binarna. \n",
    "\n",
    "Zatem seria mnożeń modulo N może być sterowana liczbą binarną w klasycznym komputerze. W komputerze kwantowym możemy użyć do tego rejestru qubitów. "
   ]
  },
  {
   "cell_type": "code",
   "execution_count": 22,
   "metadata": {},
   "outputs": [
    {
     "name": "stdout",
     "output_type": "stream",
     "text": [
      "Potęgowanie ver. 1: 8\n",
      "Potęgowanie ver. 2: 8\n"
     ]
    }
   ],
   "source": [
    "N = 15\n",
    "x = 2\n",
    "    \n",
    "def mypow(value, module, ab):\n",
    "    px = value**ab[0]\n",
    "    for i in range(1, 8, 1):\n",
    "        px = px * (value**(2*ab[i])) % N\n",
    "    return px\n",
    "\n",
    "a = [1, 1, 0, 0, 0, 0, 0, 0]    \n",
    "print('Potęgowanie ver. 1:', mypow(2, N, a))    \n",
    "print('Potęgowanie ver. 2:', pow(2, 3, N)) "
   ]
  },
  {
   "cell_type": "code",
   "execution_count": null,
   "metadata": {},
   "outputs": [],
   "source": []
  },
  {
   "cell_type": "code",
   "execution_count": null,
   "metadata": {},
   "outputs": [],
   "source": []
  }
 ],
 "metadata": {
  "kernelspec": {
   "display_name": "Python 3",
   "language": "python",
   "name": "python3"
  },
  "language_info": {
   "codemirror_mode": {
    "name": "ipython",
    "version": 3
   },
   "file_extension": ".py",
   "mimetype": "text/x-python",
   "name": "python",
   "nbconvert_exporter": "python",
   "pygments_lexer": "ipython3",
   "version": "3.6.8"
  }
 },
 "nbformat": 4,
 "nbformat_minor": 2
}
