{
 "cells": [
  {
   "cell_type": "markdown",
   "metadata": {},
   "source": [
    "# Dowod pracy (proof-of-work)\n",
    "Dowód pracy polega na wykonaniu pewnej pracy jako dowodu poniesienia pewnych kosztów. Wykonanie takiej pracy powinno być pracochłonne, a sprawdzenie wykonania bardzo łatwe. \n",
    "\n",
    "Pierwotnie dowód pracy został wymyślony jako zabezpieczenie przed atakami DoS i spamem. Został zaadaptowany do technologii blockchain jako metoda uwierzytelniania bloków. \n",
    "\n",
    "Blockchain wykorzystuje funkcję skrótu SHA-256. Wykonanie pracy w tym przypadku oznacza znalezienie skrótu posiadającego określony prefix np. '00xxxxxxxx...xxx'. W przypadku dobrej funkcji skrótu jedynym wyjściem jest pracowite przeszukiwanie przestrzeni, np. obliczanie skrótu dla kolejnych wartości pewnej liczby 'nonce'.\n",
    "\n",
    "Sprawdzający musi jedynie wyliczyć skrót dla przedstawionego dowodu czyli wejściowej wiadomości. Jeśli wyliczony skrót spełnia określone warunki dowód zostaje przyjęty.\n"
   ]
  },
  {
   "cell_type": "code",
   "execution_count": 13,
   "metadata": {},
   "outputs": [
    {
     "name": "stdout",
     "output_type": "stream",
     "text": [
      "Nonce: 118\n",
      "Hash(Nonce): 00cc2e9f7a37a0fdf0fc99d8fa0c7ce8f7cae298854c8581886c66dc1776fd00\n",
      "Seconds: 0.00029754638671875\n",
      "\n",
      "Nonce: 145875\n",
      "Hash(Nonce): 000003b0c79c3faff75237486788d0f6cc53c8d0f2a285fefcd6431cff8bbe35\n",
      "Seconds: 0.25660085678100586\n",
      "\n"
     ]
    }
   ],
   "source": [
    "import hashlib\n",
    "import time\n",
    "\n",
    "#selecting hashing algorithm\n",
    "hash256 = hashlib.sha256()\n",
    "\n",
    "\n",
    "#searching for hash starting with '00' in hex\n",
    "time_current = time.time()\n",
    "nonce=0\n",
    "while True:\n",
    "   hash256.update(str(nonce).encode())\n",
    "   hashed_bytes = hash256.digest()\n",
    "   \n",
    "   if (hashed_bytes[0] == 0):\n",
    "        time_end = time.time()\n",
    "        time_diff = time_end - time_current\n",
    "        print ('Nonce: '+str(nonce))\n",
    "        print ('Hash(Nonce): '+hash256.hexdigest())\n",
    "        print ('Seconds: '+str(time_diff))\n",
    "        print ()\n",
    "        break\n",
    "    \n",
    "   nonce+=1\n",
    "\n",
    "\n",
    "\n",
    "#searching for hash starting with '0000' in hex\n",
    "time_current = time.time()\n",
    "nonce=0\n",
    "while True:\n",
    "   hash256.update(str(nonce).encode())\n",
    "   hashed_bytes = hash256.digest()\n",
    "   \n",
    "   if (hashed_bytes[0] == 0) & (hashed_bytes[1] == 0):\n",
    "        time_end = time.time()\n",
    "        time_diff = time_end - time_current\n",
    "        print ('Nonce: '+str(nonce))\n",
    "        print ('Hash(Nonce): '+hash256.hexdigest())\n",
    "        print ('Seconds: '+str(time_diff))\n",
    "        print ()\n",
    "        break\n",
    "    \n",
    "   nonce+=1\n",
    "\n",
    "\n"
   ]
  },
  {
   "cell_type": "code",
   "execution_count": null,
   "metadata": {},
   "outputs": [],
   "source": []
  }
 ],
 "metadata": {
  "kernelspec": {
   "display_name": "Python 3",
   "language": "python",
   "name": "python3"
  },
  "language_info": {
   "codemirror_mode": {
    "name": "ipython",
    "version": 3
   },
   "file_extension": ".py",
   "mimetype": "text/x-python",
   "name": "python",
   "nbconvert_exporter": "python",
   "pygments_lexer": "ipython3",
   "version": "3.7.0"
  }
 },
 "nbformat": 4,
 "nbformat_minor": 2
}
